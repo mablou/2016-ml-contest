{
 "cells": [
  {
   "cell_type": "markdown",
   "metadata": {},
   "source": [
    "#### Contest entry - Wouter Kimman \n",
    "\n",
    "submission2\n",
    "\n",
    "\n",
    "--------------------------------------------------------------------------------------------\n",
    "minor changes:\n",
    "\n",
    "-preprocessing well by well \n",
    "\n",
    "-added the prediction (n) and (n-1) as a new feature\n",
    "\n",
    "--------------------------------------------------------------------------------------------"
   ]
  },
  {
   "cell_type": "code",
   "execution_count": 2,
   "metadata": {
    "collapsed": false
   },
   "outputs": [],
   "source": [
    "from numpy.fft import rfft\n",
    "from scipy import signal\n",
    "\n",
    "import numpy as np\n",
    "import matplotlib.pyplot as plt\n",
    "import plotly.plotly as py\n",
    "\n",
    "\n",
    "import pandas as pd\n",
    "import timeit\n",
    "from sqlalchemy.sql import text\n",
    "from sklearn import tree\n",
    "from sklearn import cross_validation\n",
    "from sklearn.cross_validation import train_test_split\n",
    "from sklearn import metrics\n",
    "from sklearn.cross_validation import cross_val_score\n",
    "from sklearn.tree import export_graphviz\n",
    "from sklearn.ensemble import RandomForestClassifier\n",
    "from sklearn.linear_model import LogisticRegression\n",
    "\n",
    "#import sherlock.filesystem as sfs\n",
    "#import sherlock.database as sdb\n",
    "\n",
    "from sklearn import preprocessing\n",
    "\n",
    "from sklearn.cross_validation import train_test_split"
   ]
  },
  {
   "cell_type": "markdown",
   "metadata": {},
   "source": [
    "First steps, reading in and exploring the data are the same as Brendon's steps:"
   ]
  },
  {
   "cell_type": "markdown",
   "metadata": {},
   "source": [
    "Train for the test data\n",
    "---------------------------------------------------"
   ]
  },
  {
   "cell_type": "code",
   "execution_count": 26,
   "metadata": {
    "collapsed": true
   },
   "outputs": [],
   "source": [
    "# ALL preprocessing in 1 go\n",
    "filename = 'training_data.csv'\n",
    "training_data0 = pd.read_csv(filename)\n",
    "df=training_data0.copy()\n",
    "training_data1=magic1(df)\n",
    "\n",
    "filename = 'validation_data_nofacies.csv'\n",
    "test_data = pd.read_csv(filename)"
   ]
  },
  {
   "cell_type": "code",
   "execution_count": 1635,
   "metadata": {
    "collapsed": false
   },
   "outputs": [
    {
     "data": {
      "text/plain": [
       "[SHRIMPLIN, SHANKLE, LUKE G U, CROSS H CATTLE, NOLAN, Recruit F9, NEWBY, CHURCHMAN BIBLE]\n",
       "Categories (8, object): [SHRIMPLIN, SHANKLE, LUKE G U, CROSS H CATTLE, NOLAN, Recruit F9, NEWBY, CHURCHMAN BIBLE]"
      ]
     },
     "execution_count": 1635,
     "metadata": {},
     "output_type": "execute_result"
    }
   ],
   "source": [
    "training_data0['Well Name'] = training_data0['Well Name'].astype('category')\n",
    "training_data0['Formation'] = training_data0['Formation'].astype('category')\n",
    "training_data0['Well Name'].unique()"
   ]
  },
  {
   "cell_type": "code",
   "execution_count": 31,
   "metadata": {
    "collapsed": true
   },
   "outputs": [],
   "source": [
    "\n",
    "def predict_final(test_well, training_data,test_data):\n",
    "    blind = test_data[test_data['Well Name'] == test_well]      \n",
    "    correct_facies_labels_train = training_data['Facies'].values\n",
    "    #feature_vectors_train = training_data.drop(['Formation', 'Well Name', 'Depth','Facies','FaciesLabels'], axis=1)\n",
    "    feature_vectors_train = training_data.drop(['Formation', 'Well Name', 'Depth','Facies'], axis=1)    \n",
    "    rf = RandomForestClassifier(max_depth = 15, n_estimators=600) \n",
    "    rf.fit(feature_vectors_train, correct_facies_labels_train)\n",
    "\n",
    "    # the blind well\n",
    "    feature_vectors_blind = blind.drop(['Formation', 'Well Name', 'Depth'], axis=1)\n",
    "    predicted_random_forest = rf.predict(feature_vectors_blind)\n",
    "    #out_f1=metrics.f1_score(correct_facies_labels, predicted_random_forest,average = 'micro')\n",
    "    return predicted_random_forest\n",
    "\n",
    "        "
   ]
  },
  {
   "cell_type": "code",
   "execution_count": 1666,
   "metadata": {
    "collapsed": false
   },
   "outputs": [],
   "source": [
    "test_well='STUART'\n",
    "predicted_stu=predict_final(test_well, training_data1, test_data1)\n",
    "test_well='CRAWFORD'\n",
    "predicted_craw=predict_final(test_well, training_data1, test_data1)\n"
   ]
  },
  {
   "cell_type": "markdown",
   "metadata": {},
   "source": [
    "-------------------------------------------------------------------------------------\n",
    "NEW\n"
   ]
  },
  {
   "cell_type": "code",
   "execution_count": 22,
   "metadata": {
    "collapsed": false
   },
   "outputs": [
    {
     "data": {
      "text/html": [
       "<div>\n",
       "<table border=\"1\" class=\"dataframe\">\n",
       "  <thead>\n",
       "    <tr style=\"text-align: right;\">\n",
       "      <th></th>\n",
       "      <th>Facies</th>\n",
       "      <th>Depth</th>\n",
       "      <th>GR</th>\n",
       "      <th>ILD_log10</th>\n",
       "      <th>DeltaPHI</th>\n",
       "      <th>PHIND</th>\n",
       "      <th>PE</th>\n",
       "      <th>NM_M</th>\n",
       "      <th>RELPOS</th>\n",
       "    </tr>\n",
       "    <tr>\n",
       "      <th>Well Name</th>\n",
       "      <th></th>\n",
       "      <th></th>\n",
       "      <th></th>\n",
       "      <th></th>\n",
       "      <th></th>\n",
       "      <th></th>\n",
       "      <th></th>\n",
       "      <th></th>\n",
       "      <th></th>\n",
       "    </tr>\n",
       "  </thead>\n",
       "  <tbody>\n",
       "    <tr>\n",
       "      <th>CHURCHMAN BIBLE</th>\n",
       "      <td>5.655941</td>\n",
       "      <td>3019.482673</td>\n",
       "      <td>63.683453</td>\n",
       "      <td>0.758757</td>\n",
       "      <td>1.560000</td>\n",
       "      <td>14.011116</td>\n",
       "      <td>3.789926</td>\n",
       "      <td>1.722772</td>\n",
       "      <td>0.544317</td>\n",
       "    </tr>\n",
       "    <tr>\n",
       "      <th>CROSS H CATTLE</th>\n",
       "      <td>3.127745</td>\n",
       "      <td>2702.360279</td>\n",
       "      <td>72.699285</td>\n",
       "      <td>0.568829</td>\n",
       "      <td>2.466667</td>\n",
       "      <td>15.574850</td>\n",
       "      <td>3.325852</td>\n",
       "      <td>1.297405</td>\n",
       "      <td>0.506182</td>\n",
       "    </tr>\n",
       "    <tr>\n",
       "      <th>LUKE G U</th>\n",
       "      <td>4.353579</td>\n",
       "      <td>2725.708243</td>\n",
       "      <td>64.777223</td>\n",
       "      <td>0.639690</td>\n",
       "      <td>4.218438</td>\n",
       "      <td>12.953905</td>\n",
       "      <td>3.660705</td>\n",
       "      <td>1.466377</td>\n",
       "      <td>0.514095</td>\n",
       "    </tr>\n",
       "    <tr>\n",
       "      <th>NEWBY</th>\n",
       "      <td>4.801296</td>\n",
       "      <td>2941.500000</td>\n",
       "      <td>60.733045</td>\n",
       "      <td>0.674812</td>\n",
       "      <td>3.477970</td>\n",
       "      <td>11.625378</td>\n",
       "      <td>3.771706</td>\n",
       "      <td>1.615551</td>\n",
       "      <td>0.528138</td>\n",
       "    </tr>\n",
       "    <tr>\n",
       "      <th>NOLAN</th>\n",
       "      <td>4.643373</td>\n",
       "      <td>2957.000000</td>\n",
       "      <td>68.693940</td>\n",
       "      <td>0.592400</td>\n",
       "      <td>3.134070</td>\n",
       "      <td>12.197361</td>\n",
       "      <td>3.857947</td>\n",
       "      <td>1.527711</td>\n",
       "      <td>0.549007</td>\n",
       "    </tr>\n",
       "    <tr>\n",
       "      <th>Recruit F9</th>\n",
       "      <td>9.000000</td>\n",
       "      <td>3038.367647</td>\n",
       "      <td>44.712853</td>\n",
       "      <td>0.567853</td>\n",
       "      <td>1.436515</td>\n",
       "      <td>13.183368</td>\n",
       "      <td>5.460735</td>\n",
       "      <td>2.000000</td>\n",
       "      <td>0.448279</td>\n",
       "    </tr>\n",
       "    <tr>\n",
       "      <th>SHANKLE</th>\n",
       "      <td>3.576837</td>\n",
       "      <td>2890.502227</td>\n",
       "      <td>65.431180</td>\n",
       "      <td>0.630831</td>\n",
       "      <td>2.348998</td>\n",
       "      <td>15.741125</td>\n",
       "      <td>3.224944</td>\n",
       "      <td>1.340757</td>\n",
       "      <td>0.503118</td>\n",
       "    </tr>\n",
       "    <tr>\n",
       "      <th>SHRIMPLIN</th>\n",
       "      <td>4.384289</td>\n",
       "      <td>2910.501062</td>\n",
       "      <td>69.408896</td>\n",
       "      <td>0.659679</td>\n",
       "      <td>7.708493</td>\n",
       "      <td>12.173705</td>\n",
       "      <td>4.219958</td>\n",
       "      <td>1.488323</td>\n",
       "      <td>0.514482</td>\n",
       "    </tr>\n",
       "  </tbody>\n",
       "</table>\n",
       "</div>"
      ],
      "text/plain": [
       "                   Facies        Depth         GR  ILD_log10  DeltaPHI  \\\n",
       "Well Name                                                                \n",
       "CHURCHMAN BIBLE  5.655941  3019.482673  63.683453   0.758757  1.560000   \n",
       "CROSS H CATTLE   3.127745  2702.360279  72.699285   0.568829  2.466667   \n",
       "LUKE G U         4.353579  2725.708243  64.777223   0.639690  4.218438   \n",
       "NEWBY            4.801296  2941.500000  60.733045   0.674812  3.477970   \n",
       "NOLAN            4.643373  2957.000000  68.693940   0.592400  3.134070   \n",
       "Recruit F9       9.000000  3038.367647  44.712853   0.567853  1.436515   \n",
       "SHANKLE          3.576837  2890.502227  65.431180   0.630831  2.348998   \n",
       "SHRIMPLIN        4.384289  2910.501062  69.408896   0.659679  7.708493   \n",
       "\n",
       "                     PHIND        PE      NM_M    RELPOS  \n",
       "Well Name                                                 \n",
       "CHURCHMAN BIBLE  14.011116  3.789926  1.722772  0.544317  \n",
       "CROSS H CATTLE   15.574850  3.325852  1.297405  0.506182  \n",
       "LUKE G U         12.953905  3.660705  1.466377  0.514095  \n",
       "NEWBY            11.625378  3.771706  1.615551  0.528138  \n",
       "NOLAN            12.197361  3.857947  1.527711  0.549007  \n",
       "Recruit F9       13.183368  5.460735  2.000000  0.448279  \n",
       "SHANKLE          15.741125  3.224944  1.340757  0.503118  \n",
       "SHRIMPLIN        12.173705  4.219958  1.488323  0.514482  "
      ]
     },
     "execution_count": 22,
     "metadata": {},
     "output_type": "execute_result"
    }
   ],
   "source": [
    "temp1=training_data0.groupby('Well Name')\n",
    "temp2=test_data0.groupby('Well Name')\n",
    "#temp1.describe()\n",
    "temp1.mean()\n"
   ]
  },
  {
   "cell_type": "code",
   "execution_count": 5,
   "metadata": {
    "collapsed": true
   },
   "outputs": [],
   "source": [
    "def magic1(df):\n",
    "    df1=df.copy()\n",
    "    b, a = signal.butter(2, 0.2, btype='high', analog=False)\n",
    "    feats00=['GR','ILD_log10','DeltaPHI','PHIND','PE','NM_M','RELPOS']\n",
    "    feats01=['GR','DeltaPHI','PHIND']\n",
    "    for ii in feats00:\n",
    "        df1[ii]=df[ii]\n",
    "        name1=ii + '_1'\n",
    "        name2=ii + '_2'\n",
    "        name3=ii + '_3'\n",
    "        name4=ii + '_4'\n",
    "        xx1 = list(df[ii])\n",
    "        xx_mf= signal.medfilt(xx1,9)\n",
    "        x_min3=np.roll(xx_mf, 3)    \n",
    "        xx1a=xx1-np.mean(xx1)\n",
    "        xx_fil = signal.filtfilt(b, a, xx1)\n",
    "        xx_grad=np.gradient(xx1a) \n",
    "        if ii in feats01: \n",
    "            df1[name1]=x_min3\n",
    "            df1[name2]=xx_fil\n",
    "            df1[name3]=xx_grad\n",
    "            df1[name4]=xx_mf     \n",
    "    return df1\n"
   ]
  },
  {
   "cell_type": "code",
   "execution_count": 6,
   "metadata": {
    "collapsed": true
   },
   "outputs": [],
   "source": [
    "\n",
    "def run_test1(remove_well, df_train, df_test):\n",
    "    blind = df_test[df_test['Well Name'] == remove_well]      \n",
    "    training_data = df_train[df_train['Well Name'] != remove_well]  \n",
    "\n",
    "    correct_facies_labels_train = training_data['Facies'].values\n",
    "    feature_vectors = training_data.drop(['Formation', 'Well Name', 'Depth','Facies'], axis=1)\n",
    "    scaler = preprocessing.StandardScaler().fit(feature_vectors)\n",
    "    #scaled_features_train = scaler.transform(feature_vectors)\n",
    "    scaled_features_train = feature_vectors\n",
    "    \n",
    "    rf = RandomForestClassifier(max_depth = 15, n_estimators=600) \n",
    "    rf.fit(scaled_features_train, correct_facies_labels_train)\n",
    "\n",
    "\n",
    "    # get the blind well\n",
    "    correct_facies_labels = blind['Facies'].values\n",
    "    feature_vectors = blind.drop(['Formation', 'Well Name', 'Depth','Facies'], axis=1)\n",
    "    scaler = preprocessing.StandardScaler().fit(feature_vectors)\n",
    "    #scaled_features = scaler.transform(feature_vectors)\n",
    "    scaled_features =feature_vectors\n",
    "\n",
    "    predicted_random_forest = rf.predict(scaled_features)\n",
    "\n",
    "    out_f1=metrics.f1_score(correct_facies_labels, predicted_random_forest,average = 'micro')\n",
    "    return out_f1, predicted_random_forest\n",
    "\n",
    "    "
   ]
  },
  {
   "cell_type": "markdown",
   "metadata": {},
   "source": [
    "run preprocessing well by well\n",
    "(more correct in terms of filtering)"
   ]
  },
  {
   "cell_type": "code",
   "execution_count": 481,
   "metadata": {
    "collapsed": false
   },
   "outputs": [],
   "source": [
    "df=training_data0.copy()\n",
    "wells=['CHURCHMAN BIBLE','SHANKLE','NOLAN','NEWBY','Recruit F9' ,'CROSS H CATTLE','LUKE G U','SHRIMPLIN']\n",
    "\n",
    "appended_data=[]\n",
    "for name in wells:\n",
    "    dff=df[df['Well Name']==name]\n",
    "    dfnew1=magic1(dff)    \n",
    "    appended_data.append(dfnew1)\n",
    "    \n",
    "appended_data1 = pd.concat(appended_data, axis=0)\n",
    "appended_data1.head()  \n",
    "training_data3=appended_data1.copy()"
   ]
  },
  {
   "cell_type": "markdown",
   "metadata": {},
   "source": [
    "How well do we do beforehand:"
   ]
  },
  {
   "cell_type": "code",
   "execution_count": 484,
   "metadata": {
    "collapsed": false
   },
   "outputs": [
    {
     "data": {
      "text/html": [
       "<div>\n",
       "<table border=\"1\" class=\"dataframe\">\n",
       "  <thead>\n",
       "    <tr style=\"text-align: right;\">\n",
       "      <th></th>\n",
       "      <th>Facies</th>\n",
       "      <th>Formation</th>\n",
       "      <th>Well Name</th>\n",
       "      <th>Depth</th>\n",
       "      <th>GR</th>\n",
       "      <th>ILD_log10</th>\n",
       "      <th>DeltaPHI</th>\n",
       "      <th>PHIND</th>\n",
       "      <th>PE</th>\n",
       "      <th>NM_M</th>\n",
       "      <th>...</th>\n",
       "      <th>GR_3</th>\n",
       "      <th>GR_4</th>\n",
       "      <th>DeltaPHI_1</th>\n",
       "      <th>DeltaPHI_2</th>\n",
       "      <th>DeltaPHI_3</th>\n",
       "      <th>DeltaPHI_4</th>\n",
       "      <th>PHIND_1</th>\n",
       "      <th>PHIND_2</th>\n",
       "      <th>PHIND_3</th>\n",
       "      <th>PHIND_4</th>\n",
       "    </tr>\n",
       "  </thead>\n",
       "  <tbody>\n",
       "    <tr>\n",
       "      <th>0</th>\n",
       "      <td>3</td>\n",
       "      <td>A1 SH</td>\n",
       "      <td>SHRIMPLIN</td>\n",
       "      <td>2793.0</td>\n",
       "      <td>77.45</td>\n",
       "      <td>0.664</td>\n",
       "      <td>9.9</td>\n",
       "      <td>11.915</td>\n",
       "      <td>4.6</td>\n",
       "      <td>1</td>\n",
       "      <td>...</td>\n",
       "      <td>0.810</td>\n",
       "      <td>74.58</td>\n",
       "      <td>1.828</td>\n",
       "      <td>-0.001270</td>\n",
       "      <td>4.30</td>\n",
       "      <td>9.9</td>\n",
       "      <td>7.254</td>\n",
       "      <td>-0.006415</td>\n",
       "      <td>0.6500</td>\n",
       "      <td>11.915</td>\n",
       "    </tr>\n",
       "    <tr>\n",
       "      <th>1</th>\n",
       "      <td>3</td>\n",
       "      <td>A1 SH</td>\n",
       "      <td>SHRIMPLIN</td>\n",
       "      <td>2793.5</td>\n",
       "      <td>78.26</td>\n",
       "      <td>0.661</td>\n",
       "      <td>14.2</td>\n",
       "      <td>12.565</td>\n",
       "      <td>4.1</td>\n",
       "      <td>1</td>\n",
       "      <td>...</td>\n",
       "      <td>0.800</td>\n",
       "      <td>74.58</td>\n",
       "      <td>1.828</td>\n",
       "      <td>2.592465</td>\n",
       "      <td>2.45</td>\n",
       "      <td>13.5</td>\n",
       "      <td>7.149</td>\n",
       "      <td>0.188713</td>\n",
       "      <td>0.5675</td>\n",
       "      <td>12.565</td>\n",
       "    </tr>\n",
       "    <tr>\n",
       "      <th>2</th>\n",
       "      <td>3</td>\n",
       "      <td>A1 SH</td>\n",
       "      <td>SHRIMPLIN</td>\n",
       "      <td>2794.0</td>\n",
       "      <td>79.05</td>\n",
       "      <td>0.658</td>\n",
       "      <td>14.8</td>\n",
       "      <td>13.050</td>\n",
       "      <td>3.6</td>\n",
       "      <td>1</td>\n",
       "      <td>...</td>\n",
       "      <td>3.920</td>\n",
       "      <td>74.58</td>\n",
       "      <td>1.828</td>\n",
       "      <td>1.802692</td>\n",
       "      <td>-0.15</td>\n",
       "      <td>13.9</td>\n",
       "      <td>6.668</td>\n",
       "      <td>0.263665</td>\n",
       "      <td>0.2750</td>\n",
       "      <td>13.050</td>\n",
       "    </tr>\n",
       "    <tr>\n",
       "      <th>3</th>\n",
       "      <td>3</td>\n",
       "      <td>A1 SH</td>\n",
       "      <td>SHRIMPLIN</td>\n",
       "      <td>2794.5</td>\n",
       "      <td>86.10</td>\n",
       "      <td>0.655</td>\n",
       "      <td>13.9</td>\n",
       "      <td>13.115</td>\n",
       "      <td>3.5</td>\n",
       "      <td>1</td>\n",
       "      <td>...</td>\n",
       "      <td>-2.235</td>\n",
       "      <td>75.65</td>\n",
       "      <td>9.900</td>\n",
       "      <td>-0.068553</td>\n",
       "      <td>-0.65</td>\n",
       "      <td>14.0</td>\n",
       "      <td>11.915</td>\n",
       "      <td>-0.010605</td>\n",
       "      <td>0.1250</td>\n",
       "      <td>13.115</td>\n",
       "    </tr>\n",
       "    <tr>\n",
       "      <th>4</th>\n",
       "      <td>3</td>\n",
       "      <td>A1 SH</td>\n",
       "      <td>SHRIMPLIN</td>\n",
       "      <td>2795.0</td>\n",
       "      <td>74.58</td>\n",
       "      <td>0.647</td>\n",
       "      <td>13.5</td>\n",
       "      <td>13.300</td>\n",
       "      <td>3.4</td>\n",
       "      <td>1</td>\n",
       "      <td>...</td>\n",
       "      <td>-6.065</td>\n",
       "      <td>75.65</td>\n",
       "      <td>13.500</td>\n",
       "      <td>-1.139593</td>\n",
       "      <td>0.05</td>\n",
       "      <td>14.2</td>\n",
       "      <td>12.565</td>\n",
       "      <td>-0.092611</td>\n",
       "      <td>0.1350</td>\n",
       "      <td>13.300</td>\n",
       "    </tr>\n",
       "  </tbody>\n",
       "</table>\n",
       "<p>5 rows × 23 columns</p>\n",
       "</div>"
      ],
      "text/plain": [
       "   Facies Formation  Well Name   Depth     GR  ILD_log10  DeltaPHI   PHIND  \\\n",
       "0       3     A1 SH  SHRIMPLIN  2793.0  77.45      0.664       9.9  11.915   \n",
       "1       3     A1 SH  SHRIMPLIN  2793.5  78.26      0.661      14.2  12.565   \n",
       "2       3     A1 SH  SHRIMPLIN  2794.0  79.05      0.658      14.8  13.050   \n",
       "3       3     A1 SH  SHRIMPLIN  2794.5  86.10      0.655      13.9  13.115   \n",
       "4       3     A1 SH  SHRIMPLIN  2795.0  74.58      0.647      13.5  13.300   \n",
       "\n",
       "    PE  NM_M   ...      GR_3   GR_4  DeltaPHI_1  DeltaPHI_2  DeltaPHI_3  \\\n",
       "0  4.6     1   ...     0.810  74.58       1.828   -0.001270        4.30   \n",
       "1  4.1     1   ...     0.800  74.58       1.828    2.592465        2.45   \n",
       "2  3.6     1   ...     3.920  74.58       1.828    1.802692       -0.15   \n",
       "3  3.5     1   ...    -2.235  75.65       9.900   -0.068553       -0.65   \n",
       "4  3.4     1   ...    -6.065  75.65      13.500   -1.139593        0.05   \n",
       "\n",
       "   DeltaPHI_4  PHIND_1   PHIND_2  PHIND_3  PHIND_4  \n",
       "0         9.9    7.254 -0.006415   0.6500   11.915  \n",
       "1        13.5    7.149  0.188713   0.5675   12.565  \n",
       "2        13.9    6.668  0.263665   0.2750   13.050  \n",
       "3        14.0   11.915 -0.010605   0.1250   13.115  \n",
       "4        14.2   12.565 -0.092611   0.1350   13.300  \n",
       "\n",
       "[5 rows x 23 columns]"
      ]
     },
     "execution_count": 484,
     "metadata": {},
     "output_type": "execute_result"
    }
   ],
   "source": [
    "training_data1.head()"
   ]
  },
  {
   "cell_type": "code",
   "execution_count": 7,
   "metadata": {
    "collapsed": false
   },
   "outputs": [],
   "source": [
    "\n",
    "def add_previous_facies(df):\n",
    "    N=len(df)\n",
    "    dfnew=df.copy()\n",
    "    dfnew.iloc[0]=df.iloc[0]\n",
    "    facies_old=df.iloc[0]\n",
    "    for ii in range(1,N):\n",
    "        facies_try1=df.iloc[ii-1]           # the previous value of the facies \n",
    "        facies_try2=df.iloc[ii]             # the current value of the facies   \n",
    "        if facies_try1==facies_try2:\n",
    "            dfnew.iloc[ii]=facies_old \n",
    "        elif facies_try1!=facies_try2: \n",
    "            facies_old=facies_try1                                      # and set the previous value to this nr\n",
    "            dfnew.iloc[ii]=facies_old                                  # then set to the previous facies\n",
    "    return dfnew     \n",
    "            \n",
    "    \n",
    "def add_next_facies(df):\n",
    "    N=len(df)\n",
    "    dfnew=df.copy()\n",
    "    dfnew.iloc[N-1]=df.iloc[N-1]\n",
    "    facies_old=df.iloc[N-1]\n",
    "    for ii in range(N-2,-1,-1):\n",
    "        #print ii\n",
    "        facies_try1=df.iloc[ii+1]           # the previous value of the facies \n",
    "        facies_try2=df.iloc[ii]             # the current value of the facies   \n",
    "        if facies_try1==facies_try2:\n",
    "            dfnew.iloc[ii]=facies_old \n",
    "        elif facies_try1!=facies_try2: \n",
    "            facies_old=facies_try1                                      # and set the previous value to this nr\n",
    "            dfnew.iloc[ii]=facies_old                                  # then set to the previous facies\n",
    "    return dfnew  \n",
    "    "
   ]
  },
  {
   "cell_type": "code",
   "execution_count": 70,
   "metadata": {
    "collapsed": false
   },
   "outputs": [],
   "source": [
    "def add_prediction(training_data1, predicted_random_forest, remove_well):\n",
    "    \n",
    "    df_test=training_data1\n",
    "    df_train=training_data1\n",
    "    \n",
    "    blind = df_test[df_test['Well Name'] == remove_well]      \n",
    "    df_train_noblind = df_train[df_train['Well Name'] != remove_well]  \n",
    "\n",
    "\n",
    "    blind['facies_pred'] = pd.Series(predicted_random_forest, index=blind.index)\n",
    "\n",
    "#   df=blind['facies_pred']\n",
    "#   mask = blind['Well Name']==remove_well \n",
    "#   blind.loc[mask, 'facies_pred'] = df \n",
    " \n",
    "    return blind, df_train_noblind"
   ]
  },
  {
   "cell_type": "code",
   "execution_count": null,
   "metadata": {
    "collapsed": true
   },
   "outputs": [],
   "source": []
  },
  {
   "cell_type": "code",
   "execution_count": 8,
   "metadata": {
    "collapsed": false
   },
   "outputs": [],
   "source": [
    "def add_previous(training_data1, predicted_random_forest, remove_well):\n",
    "    \n",
    "    df_test=training_data1\n",
    "    df_train=training_data1\n",
    "    \n",
    "    blind = df_test[df_test['Well Name'] == remove_well]      \n",
    "    df_train_noblind = df_train[df_train['Well Name'] != remove_well]  \n",
    "\n",
    "    blind['facies_pred'] = pd.Series(predicted_random_forest, index=blind.index)\n",
    "    df=blind['facies_pred']\n",
    "    dfnew1=add_previous_facies(df)  \n",
    "    mask = blind['Well Name']==remove_well\n",
    "    blind.loc[mask, 'facies_min1'] = dfnew1 \n",
    "    \n",
    "    return blind, df_train_noblind\n",
    "    "
   ]
  },
  {
   "cell_type": "code",
   "execution_count": 110,
   "metadata": {
    "collapsed": false
   },
   "outputs": [],
   "source": [
    "def addn_1(wells, blindwell, blind, df_train_noblind):\n",
    "\n",
    "    blind1=blind.copy()\n",
    "    blind1['facies_min1']=0.0*blind1['facies_pred']\n",
    "\n",
    "    # calculating n-1 using for n the predicted facies of the blind well\n",
    "    #df=blind1['Facies'][blind1['Well Name']==blindwell]\n",
    "    df=blind1['facies_pred'][blind1['Well Name']==blindwell]    \n",
    "    dfnew1=add_previous_facies(df)  \n",
    "    mask = blind1['Well Name']==blindwell\n",
    "    blind1.loc[mask, 'facies_min1'] = dfnew1   \n",
    "\n",
    "    #=========\n",
    "    # calculating n-1 using for n the true facies of the training wells\n",
    "    df_train_noblind1=df_train_noblind.copy()\n",
    "    df_train_noblind1['facies_min1']=0.0*df_train_noblind1['Facies']\n",
    "\n",
    "    for name in wells:\n",
    "        df=df_train_noblind1['Facies'][df_train_noblind1['Well Name']==name]\n",
    "        dfnew1=add_previous_facies(df)      \n",
    "        mask = df_train_noblind1['Well Name']==name\n",
    "        df_train_noblind1.loc[mask, 'facies_min1'] = dfnew1\n",
    "        \n",
    "    return blind1, df_train_noblind1\n"
   ]
  },
  {
   "cell_type": "code",
   "execution_count": 157,
   "metadata": {
    "collapsed": true
   },
   "outputs": [],
   "source": [
    "def add_surrounding0(predicted_random_forest, remove_well, blind, df_train_noblind):\n",
    "    \n",
    "    #df_test=training_data1\n",
    "    #df_train=training_data1\n",
    "    \n",
    "    #blind = df_test[df_test['Well Name'] == remove_well]      \n",
    "    #df_train_noblind = df_train[df_train['Well Name'] != remove_well]  \n",
    "\n",
    "\n",
    "    blind['facies_pred'] = pd.Series(predicted_random_forest, index=blind.index)\n",
    "\n",
    "    df=blind['facies_pred']\n",
    "    dfnew1=add_previous_facies(df)  \n",
    "    dfnew2=add_previous_facies(dfnew1)\n",
    "    dfnew3=add_next_facies(df) \n",
    "    dfnew4=add_next_facies(dfnew3)\n",
    "    appended_data=[]\n",
    "    appended_data.append(df) \n",
    "    appended_data.append(df)     \n",
    "    appended_data.append(dfnew1)   \n",
    "    appended_data.append(dfnew2)    \n",
    "    AA1 = pd.concat(appended_data, axis=1)\n",
    "    most_common=AA1.median(axis=1)\n",
    "\n",
    "    mask = blind['Well Name']==remove_well\n",
    "    #blind.loc[mask, 'facies_min1'] = most_common \n",
    "    blind.loc[mask, 'facies_pred'] = most_common \n",
    "    #blind['facies_min1'][blind['Well Name']==remove_well]=dfnew1\n",
    " \n",
    "    return blind, df_train_noblind"
   ]
  },
  {
   "cell_type": "code",
   "execution_count": 158,
   "metadata": {
    "collapsed": true
   },
   "outputs": [],
   "source": [
    "def add_surrounding(predicted_random_forest, remove_well, blind, df_train_noblind):\n",
    "    \n",
    "    #df_test=training_data1\n",
    "    #df_train=training_data1\n",
    "    \n",
    "    #blind = df_test[df_test['Well Name'] == remove_well]      \n",
    "    #df_train_noblind = df_train[df_train['Well Name'] != remove_well]  \n",
    "\n",
    "\n",
    "    blind['facies_pred'] = pd.Series(predicted_random_forest, index=blind.index)\n",
    "\n",
    "    df=blind['facies_pred']\n",
    "    dfnew1=add_previous_facies(df)  \n",
    "    dfnew2=add_previous_facies(dfnew1)\n",
    "    dfnew3=add_next_facies(df) \n",
    "    dfnew4=add_next_facies(dfnew3)\n",
    "    appended_data=[]\n",
    "    appended_data.append(df) \n",
    "    appended_data.append(df)     \n",
    "    appended_data.append(df) \n",
    "    appended_data.append(dfnew1)\n",
    "    appended_data.append(dfnew1)\n",
    "    appended_data.append(dfnew2)\n",
    "    appended_data.append(dfnew3)\n",
    "    appended_data.append(dfnew4)\n",
    "    AA1 = pd.concat(appended_data, axis=1)\n",
    "    most_common=AA1.median(axis=1)\n",
    "\n",
    "    mask = blind['Well Name']==remove_well\n",
    "    #blind.loc[mask, 'facies_min1'] = most_common \n",
    "    blind.loc[mask, 'facies_pred'] = most_common \n",
    "    #blind['facies_min1'][blind['Well Name']==remove_well]=dfnew1\n",
    " \n",
    "    return blind, df_train_noblind"
   ]
  },
  {
   "cell_type": "code",
   "execution_count": 204,
   "metadata": {
    "collapsed": false
   },
   "outputs": [],
   "source": [
    "def make_predict(df_train_noblind, blind):\n",
    "    correct_facies_labels_train = df_train_noblind['Facies'].values\n",
    "    scaled_features_train = df_train_noblind.drop(['Formation', 'Well Name', 'Depth','Facies'], axis=1)\n",
    "    \n",
    "    rf = RandomForestClassifier(max_depth = 15, n_estimators=600) \n",
    "    rf.fit(scaled_features_train, correct_facies_labels_train)\n",
    "\n",
    "    # get the blind well\n",
    "    correct_facies_labels = blind['Facies'].values\n",
    "    feature_vectors = blind.drop(['Formation', 'Well Name', 'Depth','Facies','facies_pred'], axis=1)\n",
    "    #scaler = preprocessing.StandardScaler().fit(feature_vectors)\n",
    "\n",
    "    predicted_random_forest = rf.predict(feature_vectors)\n",
    "    out_f1=metrics.f1_score(correct_facies_labels, predicted_random_forest,average = 'micro')\n",
    "    print out_f1\n",
    "    return out_f1, predicted_random_forest\n"
   ]
  },
  {
   "cell_type": "code",
   "execution_count": 207,
   "metadata": {
    "collapsed": true
   },
   "outputs": [],
   "source": [
    "def make_predict_test(df_train_noblind, blind):\n",
    "    correct_facies_labels_train = df_train_noblind['Facies'].values\n",
    "    scaled_features_train = df_train_noblind.drop(['Formation', 'Well Name', 'Depth','Facies'], axis=1)\n",
    "    \n",
    "    rf = RandomForestClassifier(max_depth = 15, n_estimators=600) \n",
    "    rf.fit(scaled_features_train, correct_facies_labels_train)\n",
    "    \n",
    "    feature_vectors = blind.drop(['Formation', 'Well Name', 'Depth','facies_pred'], axis=1)\n",
    "    \n",
    "    predicted_random_forest = rf.predict(feature_vectors)\n",
    "    return predicted_random_forest\n"
   ]
  },
  {
   "cell_type": "markdown",
   "metadata": {},
   "source": [
    "------------------------------------\n",
    "START \n",
    "------------------------------------"
   ]
  },
  {
   "cell_type": "code",
   "execution_count": 168,
   "metadata": {
    "collapsed": false
   },
   "outputs": [],
   "source": [
    "# ALL preprocessing in 1 go\n",
    "filename = 'training_data.csv'\n",
    "training_data0 = pd.read_csv(filename)\n",
    "df=training_data0.copy()\n",
    "\n",
    "#first preprocessing:\n",
    "training_data1=magic1(df)\n",
    "\n",
    "\n"
   ]
  },
  {
   "cell_type": "code",
   "execution_count": 169,
   "metadata": {
    "collapsed": true
   },
   "outputs": [],
   "source": [
    "df=training_data0.copy()\n",
    "wells=['CHURCHMAN BIBLE','SHANKLE','NOLAN','NEWBY','Recruit F9' ,'CROSS H CATTLE','LUKE G U','SHRIMPLIN']\n",
    "\n",
    "appended_data=[]\n",
    "for name in wells:\n",
    "    dff=df[df['Well Name']==name]\n",
    "    dfnew1=magic1(dff)    \n",
    "    appended_data.append(dfnew1)\n",
    "    \n",
    "appended_data1 = pd.concat(appended_data, axis=0)\n",
    "appended_data1.head()  \n",
    "training_data2=appended_data1.copy()\n",
    "\n",
    "\n"
   ]
  },
  {
   "cell_type": "markdown",
   "metadata": {},
   "source": [
    "First prediction:"
   ]
  },
  {
   "cell_type": "code",
   "execution_count": 183,
   "metadata": {
    "collapsed": false
   },
   "outputs": [
    {
     "name": "stdout",
     "output_type": "stream",
     "text": [
      "well : CHURCHMAN BIBLE, f1 for different runs:\n",
      "0.571782178218\n",
      "0.569306930693\n",
      "0.584158415842\n",
      "0.574257425743\n",
      "0.564356435644\n",
      "0.581683168317\n",
      "0.566831683168\n",
      "0.576732673267\n",
      "0.574257425743\n",
      "0.571782178218\n",
      "0.576732673267\n",
      "0.581683168317\n",
      "0.579207920792\n",
      "0.586633663366\n",
      "0.586633663366\n",
      "0.584158415842\n",
      "0.584158415842\n",
      "0.579207920792\n",
      "0.581683168317\n",
      "0.569306930693\n",
      "0.589108910891\n",
      "0.576732673267\n",
      "0.574257425743\n",
      "0.576732673267\n",
      "0.579207920792\n",
      "average f1 is 0.577624, 2*std is 0.012747\n",
      "overall average f1 is 0.577624\n"
     ]
    }
   ],
   "source": [
    "\n",
    "#df_train=training_data1\n",
    "#df_test=training_data1\n",
    "\n",
    "df_train=training_data2\n",
    "df_test=training_data2\n",
    "\n",
    "wells=['CHURCHMAN BIBLE']\n",
    "#wells=['SHANKLE']\n",
    "av_all=[]\n",
    "for remove_well in wells:\n",
    "    all=[]\n",
    "    print(\"well : %s, f1 for different runs:\" % (remove_well))\n",
    "    for ii in range(25):\n",
    "        out_f1, predicted_random_forest=run_test1(remove_well,df_train, df_test)\n",
    "        print out_f1\n",
    "        all.append(out_f1)\n",
    "    av1=np.mean(all) \n",
    "    av_all.append(av1)\n",
    "    print(\"average f1 is %f, 2*std is %f\" % (av1, 2*np.std(all)) )\n",
    "\n",
    "print(\"overall average f1 is %f\" % (np.mean(av_all)))"
   ]
  },
  {
   "cell_type": "markdown",
   "metadata": {},
   "source": [
    "ADDING PREDICTION INFORMATION AND SEPERATE INTO BLIND AND REST"
   ]
  },
  {
   "cell_type": "code",
   "execution_count": 184,
   "metadata": {
    "collapsed": false
   },
   "outputs": [
    {
     "name": "stderr",
     "output_type": "stream",
     "text": [
      "/home/sherlock/anaconda/envs/Python2/lib/python2.7/site-packages/ipykernel/__main__.py:10: SettingWithCopyWarning:\n",
      "\n",
      "\n",
      "A value is trying to be set on a copy of a slice from a DataFrame.\n",
      "Try using .loc[row_indexer,col_indexer] = value instead\n",
      "\n",
      "See the caveats in the documentation: http://pandas.pydata.org/pandas-docs/stable/indexing.html#indexing-view-versus-copy\n",
      "\n"
     ]
    }
   ],
   "source": [
    "remove_well='CHURCHMAN BIBLE'\n",
    "#remove_well='SHANKLE'\n",
    "#blind, df_train_noblind = add_previous(training_data1, predicted_random_forest, remove_well)\n",
    "blind, df_train_noblind = add_prediction(training_data2, predicted_random_forest, remove_well)"
   ]
  },
  {
   "cell_type": "markdown",
   "metadata": {},
   "source": [
    "ADDING N-1 INFORMATION"
   ]
  },
  {
   "cell_type": "code",
   "execution_count": 185,
   "metadata": {
    "collapsed": false
   },
   "outputs": [],
   "source": [
    "#blindwell='SHANKLE'\n",
    "#wells=['CHURCHMAN BIBLE','NOLAN','NEWBY','Recruit F9' ,'CROSS H CATTLE','LUKE G U','SHRIMPLIN']\n",
    "blindwell='CHURCHMAN BIBLE'\n",
    "wells=['SHANKLE','NOLAN','NEWBY','Recruit F9' ,'CROSS H CATTLE','LUKE G U','SHRIMPLIN']\n",
    "blind1, df_train_noblind1=addn_1(wells, blindwell, blind, df_train_noblind)"
   ]
  },
  {
   "cell_type": "markdown",
   "metadata": {},
   "source": [
    "Make first prediction using pred and n-1"
   ]
  },
  {
   "cell_type": "code",
   "execution_count": 186,
   "metadata": {
    "collapsed": false
   },
   "outputs": [
    {
     "name": "stdout",
     "output_type": "stream",
     "text": [
      "0.576732673267\n",
      "0.564356435644\n"
     ]
    }
   ],
   "source": [
    "out_f1, predicted_random_forest1= make_predict(df_train_noblind1, blind1)\n",
    "\n",
    "\n",
    "blind2, df_train_noblind2 = add_surrounding(predicted_random_forest, remove_well, blind1, df_train_noblind1)\n",
    "out_f1, predicted_random_forest2= make_predict(df_train_noblind2, blind2)\n"
   ]
  },
  {
   "cell_type": "markdown",
   "metadata": {},
   "source": [
    "The 2 steps above can be done recursively. (but does f1 still improve?)"
   ]
  },
  {
   "cell_type": "code",
   "execution_count": 222,
   "metadata": {
    "collapsed": false
   },
   "outputs": [
    {
     "name": "stdout",
     "output_type": "stream",
     "text": [
      "iteration 1\n"
     ]
    },
    {
     "ename": "ValueError",
     "evalue": "Wrong number of items passed 404, placement implies 356",
     "output_type": "error",
     "traceback": [
      "\u001b[0;31m\u001b[0m",
      "\u001b[0;31mValueError\u001b[0mTraceback (most recent call last)",
      "\u001b[0;32m<ipython-input-222-44e7e4439b18>\u001b[0m in \u001b[0;36m<module>\u001b[0;34m()\u001b[0m\n\u001b[1;32m      5\u001b[0m \u001b[0;32mfor\u001b[0m \u001b[0mii\u001b[0m \u001b[0;32min\u001b[0m \u001b[0mrange\u001b[0m\u001b[0;34m(\u001b[0m\u001b[0;36m10\u001b[0m\u001b[0;34m)\u001b[0m\u001b[0;34m:\u001b[0m\u001b[0;34m\u001b[0m\u001b[0m\n\u001b[1;32m      6\u001b[0m     \u001b[0;32mprint\u001b[0m \u001b[0;34m\"iteration \"\u001b[0m \u001b[0;34m+\u001b[0m \u001b[0mstr\u001b[0m\u001b[0;34m(\u001b[0m\u001b[0mii\u001b[0m\u001b[0;34m+\u001b[0m\u001b[0;36m1\u001b[0m\u001b[0;34m)\u001b[0m\u001b[0;34m\u001b[0m\u001b[0m\n\u001b[0;32m----> 7\u001b[0;31m     \u001b[0mblind\u001b[0m\u001b[0;34m[\u001b[0m\u001b[0;34m'facies_pred'\u001b[0m\u001b[0;34m]\u001b[0m \u001b[0;34m=\u001b[0m \u001b[0mpd\u001b[0m\u001b[0;34m.\u001b[0m\u001b[0mSeries\u001b[0m\u001b[0;34m(\u001b[0m\u001b[0mpredicted_random_forest\u001b[0m\u001b[0;34m,\u001b[0m \u001b[0mindex\u001b[0m\u001b[0;34m=\u001b[0m\u001b[0mblind\u001b[0m\u001b[0;34m.\u001b[0m\u001b[0mindex\u001b[0m\u001b[0;34m)\u001b[0m\u001b[0;34m\u001b[0m\u001b[0m\n\u001b[0m\u001b[1;32m      8\u001b[0m     \u001b[0;31m#blind, df_train_noblind=addn_1(wells, blindwell, blind, df_train_noblind)\u001b[0m\u001b[0;34m\u001b[0m\u001b[0;34m\u001b[0m\u001b[0m\n\u001b[1;32m      9\u001b[0m     \u001b[0;31m#blind, df_train_noblind = add_surrounding(predicted_random_forest, remove_well, blind, df_train_noblind)\u001b[0m\u001b[0;34m\u001b[0m\u001b[0;34m\u001b[0m\u001b[0m\n",
      "\u001b[0;32m/home/sherlock/anaconda/envs/Python2/lib/python2.7/site-packages/pandas/core/series.pyc\u001b[0m in \u001b[0;36m__init__\u001b[0;34m(self, data, index, dtype, name, copy, fastpath)\u001b[0m\n\u001b[1;32m    227\u001b[0m                                        raise_cast_failure=True)\n\u001b[1;32m    228\u001b[0m \u001b[0;34m\u001b[0m\u001b[0m\n\u001b[0;32m--> 229\u001b[0;31m                 \u001b[0mdata\u001b[0m \u001b[0;34m=\u001b[0m \u001b[0mSingleBlockManager\u001b[0m\u001b[0;34m(\u001b[0m\u001b[0mdata\u001b[0m\u001b[0;34m,\u001b[0m \u001b[0mindex\u001b[0m\u001b[0;34m,\u001b[0m \u001b[0mfastpath\u001b[0m\u001b[0;34m=\u001b[0m\u001b[0mTrue\u001b[0m\u001b[0;34m)\u001b[0m\u001b[0;34m\u001b[0m\u001b[0m\n\u001b[0m\u001b[1;32m    230\u001b[0m \u001b[0;34m\u001b[0m\u001b[0m\n\u001b[1;32m    231\u001b[0m         \u001b[0mgeneric\u001b[0m\u001b[0;34m.\u001b[0m\u001b[0mNDFrame\u001b[0m\u001b[0;34m.\u001b[0m\u001b[0m__init__\u001b[0m\u001b[0;34m(\u001b[0m\u001b[0mself\u001b[0m\u001b[0;34m,\u001b[0m \u001b[0mdata\u001b[0m\u001b[0;34m,\u001b[0m \u001b[0mfastpath\u001b[0m\u001b[0;34m=\u001b[0m\u001b[0mTrue\u001b[0m\u001b[0;34m)\u001b[0m\u001b[0;34m\u001b[0m\u001b[0m\n",
      "\u001b[0;32m/home/sherlock/anaconda/envs/Python2/lib/python2.7/site-packages/pandas/core/internals.pyc\u001b[0m in \u001b[0;36m__init__\u001b[0;34m(self, block, axis, do_integrity_check, fastpath)\u001b[0m\n\u001b[1;32m   3815\u001b[0m         \u001b[0;32mif\u001b[0m \u001b[0;32mnot\u001b[0m \u001b[0misinstance\u001b[0m\u001b[0;34m(\u001b[0m\u001b[0mblock\u001b[0m\u001b[0;34m,\u001b[0m \u001b[0mBlock\u001b[0m\u001b[0;34m)\u001b[0m\u001b[0;34m:\u001b[0m\u001b[0;34m\u001b[0m\u001b[0m\n\u001b[1;32m   3816\u001b[0m             block = make_block(block, placement=slice(0, len(axis)), ndim=1,\n\u001b[0;32m-> 3817\u001b[0;31m                                fastpath=True)\n\u001b[0m\u001b[1;32m   3818\u001b[0m \u001b[0;34m\u001b[0m\u001b[0m\n\u001b[1;32m   3819\u001b[0m         \u001b[0mself\u001b[0m\u001b[0;34m.\u001b[0m\u001b[0mblocks\u001b[0m \u001b[0;34m=\u001b[0m \u001b[0;34m[\u001b[0m\u001b[0mblock\u001b[0m\u001b[0;34m]\u001b[0m\u001b[0;34m\u001b[0m\u001b[0m\n",
      "\u001b[0;32m/home/sherlock/anaconda/envs/Python2/lib/python2.7/site-packages/pandas/core/internals.pyc\u001b[0m in \u001b[0;36mmake_block\u001b[0;34m(values, placement, klass, ndim, dtype, fastpath)\u001b[0m\n\u001b[1;32m   2516\u001b[0m                      placement=placement, dtype=dtype)\n\u001b[1;32m   2517\u001b[0m \u001b[0;34m\u001b[0m\u001b[0m\n\u001b[0;32m-> 2518\u001b[0;31m     \u001b[0;32mreturn\u001b[0m \u001b[0mklass\u001b[0m\u001b[0;34m(\u001b[0m\u001b[0mvalues\u001b[0m\u001b[0;34m,\u001b[0m \u001b[0mndim\u001b[0m\u001b[0;34m=\u001b[0m\u001b[0mndim\u001b[0m\u001b[0;34m,\u001b[0m \u001b[0mfastpath\u001b[0m\u001b[0;34m=\u001b[0m\u001b[0mfastpath\u001b[0m\u001b[0;34m,\u001b[0m \u001b[0mplacement\u001b[0m\u001b[0;34m=\u001b[0m\u001b[0mplacement\u001b[0m\u001b[0;34m)\u001b[0m\u001b[0;34m\u001b[0m\u001b[0m\n\u001b[0m\u001b[1;32m   2519\u001b[0m \u001b[0;34m\u001b[0m\u001b[0m\n\u001b[1;32m   2520\u001b[0m \u001b[0;31m# TODO: flexible with index=None and/or items=None\u001b[0m\u001b[0;34m\u001b[0m\u001b[0;34m\u001b[0m\u001b[0m\n",
      "\u001b[0;32m/home/sherlock/anaconda/envs/Python2/lib/python2.7/site-packages/pandas/core/internals.pyc\u001b[0m in \u001b[0;36m__init__\u001b[0;34m(self, values, placement, ndim, fastpath)\u001b[0m\n\u001b[1;32m     88\u001b[0m             raise ValueError('Wrong number of items passed %d, placement '\n\u001b[1;32m     89\u001b[0m                              'implies %d' % (len(self.values),\n\u001b[0;32m---> 90\u001b[0;31m                                              len(self.mgr_locs)))\n\u001b[0m\u001b[1;32m     91\u001b[0m \u001b[0;34m\u001b[0m\u001b[0m\n\u001b[1;32m     92\u001b[0m     \u001b[0;34m@\u001b[0m\u001b[0mproperty\u001b[0m\u001b[0;34m\u001b[0m\u001b[0m\n",
      "\u001b[0;31mValueError\u001b[0m: Wrong number of items passed 404, placement implies 356"
     ]
    }
   ],
   "source": [
    "blind=blind1\n",
    "df_train_noblind=df_train_noblind1\n",
    "predicted_random_forest=predicted_random_forest1\n",
    "all1=[]\n",
    "for ii in range(10):\n",
    "    print \"iteration \" + str(ii+1)\n",
    "    blind['facies_pred'] = pd.Series(predicted_random_forest, index=blind.index)\n",
    "    #blind, df_train_noblind=addn_1(wells, blindwell, blind, df_train_noblind)\n",
    "    #blind, df_train_noblind = add_surrounding(predicted_random_forest, remove_well, blind, df_train_noblind)    \n",
    "    out_f1, predicted_random_forest= make_predict(df_train_noblind, blind)\n",
    "    all1.append(out_f1)\n",
    "\n",
    "print(\"overall average f1 is %f\" % (np.mean(all1)))    "
   ]
  },
  {
   "cell_type": "code",
   "execution_count": 98,
   "metadata": {
    "collapsed": true
   },
   "outputs": [],
   "source": [
    "#predicted_random_forest_first=predicted_random_forest\n",
    "#for ii in range(4):\n",
    "#    blind, df_train_noblind = add_surrounding2(training_data2, predicted_random_forest, remove_well)   \n",
    "#    out_f1, predicted_random_forest= make_predict(df_train_noblind, blind)"
   ]
  },
  {
   "cell_type": "code",
   "execution_count": 38,
   "metadata": {
    "collapsed": false
   },
   "outputs": [],
   "source": [
    "#fig, ax = plt.subplots(figsize=(30, 20))\n",
    "#plt.plot(correct_facies_labels, color='black', label='facies')\n",
    "#plt.plot(predicted_random_forest, color='red', label='predicted')\n",
    "#plt.show()"
   ]
  },
  {
   "cell_type": "markdown",
   "metadata": {},
   "source": [
    "FINAL PREDICTIONS\n",
    "------------------"
   ]
  },
  {
   "cell_type": "code",
   "execution_count": 192,
   "metadata": {
    "collapsed": false
   },
   "outputs": [],
   "source": [
    "filename = 'validation_data_nofacies.csv'\n",
    "test_data = pd.read_csv(filename)\n",
    "df=test_data.copy()\n",
    "\n",
    "#test_data1=magic1(df)\n"
   ]
  },
  {
   "cell_type": "code",
   "execution_count": 193,
   "metadata": {
    "collapsed": true
   },
   "outputs": [],
   "source": [
    "df=test_data.copy()\n",
    "wells=['STUART','CRAWFORD']\n",
    "appended_data=[]\n",
    "for name in wells:\n",
    "    dff=df[df['Well Name']==name]\n",
    "    dfnew1=magic1(dff)    \n",
    "    appended_data.append(dfnew1)\n",
    "    \n",
    "appended_data1 = pd.concat(appended_data, axis=0)\n",
    "appended_data1.head()  \n",
    "test_data2=appended_data1.copy()"
   ]
  },
  {
   "cell_type": "code",
   "execution_count": 194,
   "metadata": {
    "collapsed": false
   },
   "outputs": [],
   "source": [
    "test_well='STUART'\n",
    "predicted_stu=predict_final(test_well, training_data1, test_data2)\n",
    "\n",
    "test_well='CRAWFORD'\n",
    "predicted_craw=predict_final(test_well, training_data1, test_data2)\n"
   ]
  },
  {
   "cell_type": "code",
   "execution_count": 196,
   "metadata": {
    "collapsed": false
   },
   "outputs": [],
   "source": [
    "test_well='STUART'\n",
    "mask = test_data2['Well Name']==test_well\n",
    "test_data2.loc[mask, 'facies_pred'] = predicted_stu\n",
    "\n",
    "test_well='CRAWFORD'\n",
    "mask = test_data2['Well Name']==test_well\n",
    "test_data2.loc[mask, 'facies_pred'] = predicted_craw\n"
   ]
  },
  {
   "cell_type": "code",
   "execution_count": 197,
   "metadata": {
    "collapsed": false
   },
   "outputs": [
    {
     "data": {
      "text/html": [
       "<div>\n",
       "<table border=\"1\" class=\"dataframe\">\n",
       "  <thead>\n",
       "    <tr style=\"text-align: right;\">\n",
       "      <th></th>\n",
       "      <th>Formation</th>\n",
       "      <th>Well Name</th>\n",
       "      <th>Depth</th>\n",
       "      <th>GR</th>\n",
       "      <th>ILD_log10</th>\n",
       "      <th>DeltaPHI</th>\n",
       "      <th>PHIND</th>\n",
       "      <th>PE</th>\n",
       "      <th>NM_M</th>\n",
       "      <th>RELPOS</th>\n",
       "      <th>...</th>\n",
       "      <th>GR_4</th>\n",
       "      <th>DeltaPHI_1</th>\n",
       "      <th>DeltaPHI_2</th>\n",
       "      <th>DeltaPHI_3</th>\n",
       "      <th>DeltaPHI_4</th>\n",
       "      <th>PHIND_1</th>\n",
       "      <th>PHIND_2</th>\n",
       "      <th>PHIND_3</th>\n",
       "      <th>PHIND_4</th>\n",
       "      <th>facies_pred</th>\n",
       "    </tr>\n",
       "  </thead>\n",
       "  <tbody>\n",
       "    <tr>\n",
       "      <th>0</th>\n",
       "      <td>A1 SH</td>\n",
       "      <td>STUART</td>\n",
       "      <td>2808.0</td>\n",
       "      <td>66.276</td>\n",
       "      <td>0.630</td>\n",
       "      <td>3.3</td>\n",
       "      <td>10.65</td>\n",
       "      <td>3.591</td>\n",
       "      <td>1</td>\n",
       "      <td>1.000</td>\n",
       "      <td>...</td>\n",
       "      <td>66.276</td>\n",
       "      <td>4.9</td>\n",
       "      <td>0.007292</td>\n",
       "      <td>3.20</td>\n",
       "      <td>3.3</td>\n",
       "      <td>15.40</td>\n",
       "      <td>0.002097</td>\n",
       "      <td>1.300</td>\n",
       "      <td>10.65</td>\n",
       "      <td>2.0</td>\n",
       "    </tr>\n",
       "    <tr>\n",
       "      <th>1</th>\n",
       "      <td>A1 SH</td>\n",
       "      <td>STUART</td>\n",
       "      <td>2808.5</td>\n",
       "      <td>77.252</td>\n",
       "      <td>0.585</td>\n",
       "      <td>6.5</td>\n",
       "      <td>11.95</td>\n",
       "      <td>3.341</td>\n",
       "      <td>1</td>\n",
       "      <td>0.978</td>\n",
       "      <td>...</td>\n",
       "      <td>73.955</td>\n",
       "      <td>4.4</td>\n",
       "      <td>1.103575</td>\n",
       "      <td>3.05</td>\n",
       "      <td>6.5</td>\n",
       "      <td>15.25</td>\n",
       "      <td>0.412649</td>\n",
       "      <td>1.475</td>\n",
       "      <td>11.95</td>\n",
       "      <td>2.0</td>\n",
       "    </tr>\n",
       "    <tr>\n",
       "      <th>2</th>\n",
       "      <td>A1 SH</td>\n",
       "      <td>STUART</td>\n",
       "      <td>2809.0</td>\n",
       "      <td>82.899</td>\n",
       "      <td>0.566</td>\n",
       "      <td>9.4</td>\n",
       "      <td>13.60</td>\n",
       "      <td>3.064</td>\n",
       "      <td>1</td>\n",
       "      <td>0.956</td>\n",
       "      <td>...</td>\n",
       "      <td>75.971</td>\n",
       "      <td>3.5</td>\n",
       "      <td>2.345797</td>\n",
       "      <td>1.50</td>\n",
       "      <td>6.5</td>\n",
       "      <td>15.20</td>\n",
       "      <td>1.354095</td>\n",
       "      <td>0.650</td>\n",
       "      <td>12.25</td>\n",
       "      <td>3.0</td>\n",
       "    </tr>\n",
       "    <tr>\n",
       "      <th>3</th>\n",
       "      <td>A1 SH</td>\n",
       "      <td>STUART</td>\n",
       "      <td>2809.5</td>\n",
       "      <td>80.671</td>\n",
       "      <td>0.593</td>\n",
       "      <td>9.5</td>\n",
       "      <td>13.25</td>\n",
       "      <td>2.977</td>\n",
       "      <td>1</td>\n",
       "      <td>0.933</td>\n",
       "      <td>...</td>\n",
       "      <td>77.252</td>\n",
       "      <td>3.3</td>\n",
       "      <td>1.501496</td>\n",
       "      <td>-0.35</td>\n",
       "      <td>6.5</td>\n",
       "      <td>10.65</td>\n",
       "      <td>0.574618</td>\n",
       "      <td>-0.625</td>\n",
       "      <td>12.35</td>\n",
       "      <td>2.0</td>\n",
       "    </tr>\n",
       "    <tr>\n",
       "      <th>4</th>\n",
       "      <td>A1 SH</td>\n",
       "      <td>STUART</td>\n",
       "      <td>2810.0</td>\n",
       "      <td>75.971</td>\n",
       "      <td>0.638</td>\n",
       "      <td>8.7</td>\n",
       "      <td>12.35</td>\n",
       "      <td>3.020</td>\n",
       "      <td>1</td>\n",
       "      <td>0.911</td>\n",
       "      <td>...</td>\n",
       "      <td>77.962</td>\n",
       "      <td>6.5</td>\n",
       "      <td>0.459993</td>\n",
       "      <td>-1.30</td>\n",
       "      <td>6.7</td>\n",
       "      <td>11.95</td>\n",
       "      <td>-0.506543</td>\n",
       "      <td>-0.500</td>\n",
       "      <td>12.45</td>\n",
       "      <td>2.0</td>\n",
       "    </tr>\n",
       "  </tbody>\n",
       "</table>\n",
       "<p>5 rows × 23 columns</p>\n",
       "</div>"
      ],
      "text/plain": [
       "  Formation Well Name   Depth      GR  ILD_log10  DeltaPHI  PHIND     PE  \\\n",
       "0     A1 SH    STUART  2808.0  66.276      0.630       3.3  10.65  3.591   \n",
       "1     A1 SH    STUART  2808.5  77.252      0.585       6.5  11.95  3.341   \n",
       "2     A1 SH    STUART  2809.0  82.899      0.566       9.4  13.60  3.064   \n",
       "3     A1 SH    STUART  2809.5  80.671      0.593       9.5  13.25  2.977   \n",
       "4     A1 SH    STUART  2810.0  75.971      0.638       8.7  12.35  3.020   \n",
       "\n",
       "   NM_M  RELPOS     ...         GR_4  DeltaPHI_1  DeltaPHI_2  DeltaPHI_3  \\\n",
       "0     1   1.000     ...       66.276         4.9    0.007292        3.20   \n",
       "1     1   0.978     ...       73.955         4.4    1.103575        3.05   \n",
       "2     1   0.956     ...       75.971         3.5    2.345797        1.50   \n",
       "3     1   0.933     ...       77.252         3.3    1.501496       -0.35   \n",
       "4     1   0.911     ...       77.962         6.5    0.459993       -1.30   \n",
       "\n",
       "   DeltaPHI_4  PHIND_1   PHIND_2  PHIND_3  PHIND_4  facies_pred  \n",
       "0         3.3    15.40  0.002097    1.300    10.65          2.0  \n",
       "1         6.5    15.25  0.412649    1.475    11.95          2.0  \n",
       "2         6.5    15.20  1.354095    0.650    12.25          3.0  \n",
       "3         6.5    10.65  0.574618   -0.625    12.35          2.0  \n",
       "4         6.7    11.95 -0.506543   -0.500    12.45          2.0  \n",
       "\n",
       "[5 rows x 23 columns]"
      ]
     },
     "execution_count": 197,
     "metadata": {},
     "output_type": "execute_result"
    }
   ],
   "source": [
    "test_data2.head()"
   ]
  },
  {
   "cell_type": "code",
   "execution_count": 217,
   "metadata": {
    "collapsed": false
   },
   "outputs": [],
   "source": [
    "test_well='STUART'\n",
    "wells=['CHURCHMAN BIBLE','SHANKLE','NOLAN','NEWBY','Recruit F9' ,'CROSS H CATTLE','LUKE G U','SHRIMPLIN']\n",
    "\n",
    "df_test=test_data2[test_data2['Well Name']==test_well]\n",
    "\n",
    "blind1, df_train_noblind1=addn_1(wells, test_well, df_test, training_data2)"
   ]
  },
  {
   "cell_type": "markdown",
   "metadata": {},
   "source": [
    "FINAL PREDICTION"
   ]
  },
  {
   "cell_type": "code",
   "execution_count": 218,
   "metadata": {
    "collapsed": false
   },
   "outputs": [
    {
     "data": {
      "text/plain": [
       "array([3, 3, 3, 2, 2, 2, 2, 2, 2, 2, 2, 2, 2, 2, 2, 2, 2, 2, 2, 2, 2, 2, 2,\n",
       "       1, 1, 1, 1, 1, 1, 1, 2, 2, 3, 2, 2, 2, 2, 3, 2, 3, 3, 2, 2, 8, 8, 8,\n",
       "       8, 6, 6, 6, 6, 6, 6, 6, 4, 4, 4, 4, 4, 4, 4, 6, 6, 6, 6, 6, 6, 6, 6,\n",
       "       6, 6, 8, 8, 8, 8, 8, 8, 8, 8, 8, 8, 8, 8, 8, 8, 8, 8, 8, 6, 6, 6, 6,\n",
       "       6, 6, 6, 6, 6, 6, 6, 6, 4, 4, 4, 4, 4, 4, 6, 8, 6, 6, 6, 6, 6, 6, 6,\n",
       "       6, 6, 6, 6, 8, 2, 2, 3, 2, 2, 2, 2, 2, 2, 2, 2, 2, 2, 2, 2, 2, 2, 2,\n",
       "       2, 2, 2, 2, 2, 2, 2, 2, 3, 2, 2, 2, 8, 8, 8, 8, 8, 8, 8, 8, 8, 8, 8,\n",
       "       8, 8, 5, 8, 6, 6, 6, 6, 6, 6, 6, 6, 6, 6, 6, 6, 6, 6, 6, 8, 8, 2, 2,\n",
       "       3, 3, 3, 3, 3, 3, 3, 3, 2, 2, 2, 3, 3, 3, 3, 2, 8, 8, 8, 8, 8, 8, 8,\n",
       "       8, 8, 8, 8, 8, 8, 8, 8, 8, 8, 8, 8, 8, 8, 8, 8, 6, 6, 6, 6, 2, 3, 1,\n",
       "       3, 3, 3, 3, 2, 2, 2, 2, 2, 2, 2, 2, 2, 2, 2, 2, 2, 3, 2, 8, 8, 8, 8,\n",
       "       8, 8, 8, 8, 8, 8, 2, 2, 2, 2, 2, 2, 2, 2, 2, 2, 2, 2, 2, 2, 2, 2, 3,\n",
       "       3, 3, 8, 8, 8, 8, 8, 8, 8, 8, 8, 8, 8, 8, 8, 3, 3, 3, 3, 8, 8, 8, 8,\n",
       "       8, 8, 8, 8, 8, 8, 8, 7, 7, 7, 7, 8, 8, 8, 8, 6, 8, 8, 8, 8, 8, 9, 9,\n",
       "       9, 9, 9, 6, 6, 6, 6, 6, 6, 6, 6, 8, 3, 3, 3, 3, 3, 3, 3, 3, 3, 3, 3,\n",
       "       3, 3, 3, 3, 3, 3, 3, 3, 2, 2, 2, 2, 2, 2, 2, 2, 2, 2, 2, 2, 2, 2, 2,\n",
       "       3, 3, 3, 3, 2, 8, 8, 8, 8, 8, 8, 8, 8, 8, 8, 8, 8, 8, 8, 8, 8, 8, 8,\n",
       "       8, 8, 8, 8, 6, 6, 6, 6, 6, 6, 8, 8, 8, 8, 8, 8, 6, 6, 6, 6, 6, 6, 6,\n",
       "       5, 5, 5, 5, 5, 5, 5, 5, 5, 5, 5, 5, 5, 5, 5, 5, 6, 6, 6, 8, 8, 8, 8,\n",
       "       8, 8, 8, 8, 8, 8, 8, 8, 8, 6, 8, 8, 6, 8, 8, 8, 6, 8, 8, 8, 8, 8, 6,\n",
       "       4, 4, 4, 4, 4, 4, 4, 4, 4, 4, 4, 4, 4, 4])"
      ]
     },
     "execution_count": 218,
     "metadata": {},
     "output_type": "execute_result"
    }
   ],
   "source": [
    "predicted_stu1= make_predict_test(df_train_noblind1, blind1)\n",
    "predicted_stu1\n"
   ]
  },
  {
   "cell_type": "code",
   "execution_count": 219,
   "metadata": {
    "collapsed": true
   },
   "outputs": [],
   "source": [
    "test_well='CRAWFORD'\n",
    "wells=['CHURCHMAN BIBLE','SHANKLE','NOLAN','NEWBY','Recruit F9' ,'CROSS H CATTLE','LUKE G U','SHRIMPLIN']\n",
    "\n",
    "df_test=test_data2[test_data2['Well Name']==test_well]\n",
    "\n",
    "blind1, df_train_noblind1=addn_1(wells, test_well, df_test, training_data2)"
   ]
  },
  {
   "cell_type": "code",
   "execution_count": 220,
   "metadata": {
    "collapsed": false
   },
   "outputs": [
    {
     "data": {
      "text/plain": [
       "array([6, 6, 6, 6, 6, 6, 6, 6, 6, 6, 6, 6, 5, 5, 4, 7, 7, 7, 7, 4, 4, 4, 4,\n",
       "       4, 7, 4, 4, 4, 4, 4, 6, 4, 4, 4, 6, 6, 6, 6, 6, 6, 6, 6, 6, 4, 6, 6,\n",
       "       8, 8, 8, 8, 8, 6, 6, 6, 6, 6, 6, 6, 6, 6, 6, 6, 6, 6, 6, 6, 6, 6, 6,\n",
       "       4, 4, 4, 8, 8, 8, 8, 8, 5, 3, 3, 3, 3, 3, 3, 7, 5, 5, 8, 8, 8, 8, 6,\n",
       "       6, 6, 6, 6, 6, 6, 8, 8, 8, 3, 3, 8, 8, 8, 8, 8, 8, 8, 6, 6, 5, 8, 8,\n",
       "       8, 8, 8, 8, 8, 8, 8, 8, 8, 8, 8, 6, 6, 6, 6, 6, 6, 6, 6, 6, 6, 6, 8,\n",
       "       8, 8, 8, 8, 6, 6, 6, 8, 2, 2, 2, 2, 2, 2, 2, 2, 2, 2, 2, 2, 2, 2, 2,\n",
       "       2, 2, 1, 2, 3, 8, 8, 8, 8, 8, 8, 8, 9, 9, 9, 9, 9, 9, 9, 9, 9, 7, 7,\n",
       "       7, 7, 7, 7, 7, 8, 8, 8, 8, 8, 3, 3, 2, 2, 2, 2, 2, 2, 2, 2, 2, 2, 2,\n",
       "       2, 2, 2, 2, 3, 2, 8, 8, 8, 8, 8, 8, 8, 8, 8, 8, 8, 8, 6, 6, 6, 6, 2,\n",
       "       2, 2, 2, 2, 2, 2, 2, 2, 2, 2, 2, 2, 2, 2, 2, 2, 3, 3, 3, 8, 8, 8, 8,\n",
       "       8, 8, 8, 8, 8, 8, 6, 6, 6, 6, 6, 6, 6, 3, 2, 2, 1, 1, 1, 2, 2, 2, 2,\n",
       "       3, 3, 3, 8, 8, 8, 8, 8, 8, 8, 8, 5, 7, 7, 7, 7, 7, 7, 7, 7, 7, 7, 7,\n",
       "       7, 7, 7, 7, 7, 7, 7, 7, 8, 8, 7, 7, 7, 7, 7, 7, 7, 7, 7, 7, 7, 7, 7,\n",
       "       7, 7, 7, 7, 7, 7, 8, 8, 8, 8, 8, 8, 6, 6, 6, 4, 3, 3, 3, 3, 2, 2, 2,\n",
       "       2, 2, 2, 2, 2, 2, 2, 3, 3, 3, 3])"
      ]
     },
     "execution_count": 220,
     "metadata": {},
     "output_type": "execute_result"
    }
   ],
   "source": [
    "predicted_craw1= make_predict_test(df_train_noblind1, blind1)\n",
    "predicted_craw1"
   ]
  },
  {
   "cell_type": "code",
   "execution_count": 223,
   "metadata": {
    "collapsed": false
   },
   "outputs": [
    {
     "data": {
      "image/png": "[encoded data removed]",
      "text/plain": [
       "<matplotlib.figure.Figure at 0x7ff45c875e50>"
      ]
     },
     "metadata": {},
     "output_type": "display_data"
    }
   ],
   "source": [
    "fig, ax = plt.subplots(figsize=(20, 10))\n",
    "plt.plot(predicted_craw0, color='black', label='facies')\n",
    "plt.plot(predicted_craw, color='red', label='predicted')\n",
    "plt.plot(predicted_craw1, color='blue', label='predicted')\n",
    "plt.show()"
   ]
  }
 ],
 "metadata": {
  "anaconda-cloud": {},
  "kernelspec": {
   "display_name": "Python [default]",
   "language": "python",
   "name": "python2"
  },
  "language_info": {
   "codemirror_mode": {
    "name": "ipython",
    "version": 2
   },
   "file_extension": ".py",
   "mimetype": "text/x-python",
   "name": "python",
   "nbconvert_exporter": "python",
   "pygments_lexer": "ipython2",
   "version": "2.7.12"
  }
 },
 "nbformat": 4,
 "nbformat_minor": 1
}
